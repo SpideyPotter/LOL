{
 "cells": [
  {
   "cell_type": "markdown",
   "metadata": {},
   "source": [
    "# League of Legends Match Analysis\n",
    "\n",
    "This notebook analyzes the match data collected using the Riot Games API."
   ]
  },
  {
   "cell_type": "code",
   "execution_count": null,
   "metadata": {},
   "outputs": [],
   "source": [
    "import pandas as pd\n",
    "import matplotlib.pyplot as plt\n",
    "import seaborn as sns\n",
    "\n",
    "# Set plot style\n",
    "plt.style.use('ggplot')\n",
    "sns.set(font_scale=1.2)"
   ]
  },
  {
   "cell_type": "code",
   "execution_count": null,
   "metadata": {},
   "outputs": [],
   "source": [
    "# Load the match data\n",
    "df = pd.read_csv('../data/lol_match_data.csv')\n",
    "\n",
    "# Display basic information\n",
    "print(f\"Total matches: {len(df)}\")\n",
    "df.head()"
   ]
  },
  {
   "cell_type": "code",
   "execution_count": null,
   "metadata": {},
   "outputs": [],
   "source": [
    "# Basic statistics\n",
    "df.describe()"
   ]
  },
  {
   "cell_type": "markdown",
   "metadata": {},
   "source": [
    "## Win Rate Analysis"
   ]
  },
  {
   "cell_type": "code",
   "execution_count": null,
   "metadata": {},
   "outputs": [],
   "source": [
    "# Calculate win rate\n",
    "win_rate = df['win'].mean() * 100\n",
    "print(f\"Overall win rate: {win_rate:.2f}%\")\n",
    "\n",
    "# Win rate by champion\n",
    "champion_stats = df.groupby('champion').agg({\n",
    "    'win': ['mean', 'count'],\n",
    "    'kills': 'mean',\n",
    "    'deaths': 'mean',\n",
    "    'assists': 'mean',\n",
    "    'kda': 'mean'\n",
    "}).sort_values(('win', 'count'), ascending=False)\n",
    "\n",
    "# Convert win rate to percentage\n",
    "champion_stats[('win', 'mean')] = champion_stats[('win', 'mean')] * 100\n",
    "\n",
    "# Display champion stats\n",
    "champion_stats.head(10)"
   ]
  },
  {
   "cell_type": "markdown",
   "metadata": {},
   "source": [
    "## Performance Metrics Visualization"
   ]
  },
  {
   "cell_type": "code",
   "execution_count": null,
   "metadata": {},
   "outputs": [],
   "source": [
    "# Plot KDA distribution\n",
    "plt.figure(figsize=(10, 6))\n",
    "sns.histplot(df['kda'], bins=20)\n",
    "plt.title('KDA Distribution')\n",
    "plt.xlabel('KDA')\n",
    "plt.ylabel('Frequency')\n",
    "plt.axvline(df['kda'].mean(), color='red', linestyle='--', label=f'Mean: {df[\"kda\"].mean():.2f}')\n",
    "plt.legend()\n",
    "plt.show()"
   ]
  },
  {
   "cell_type": "code",
   "execution_count": null,
   "metadata": {},
   "outputs": [],
   "source": [
    "# Plot CS per minute vs. KDA\n",
    "plt.figure(figsize=(10, 6))\n",
    "sns.scatterplot(data=df, x='cs_per_min', y='kda', hue='win')\n",
    "plt.title('CS per Minute vs. KDA')\n",
    "plt.xlabel('CS per Minute')\n",
    "plt.ylabel('KDA')\n",
    "plt.show()"
   ]
  },
  {
   "cell_type": "markdown",
   "metadata": {},
   "source": [
    "## Game Duration Analysis"
   ]
  },
  {
   "cell_type": "code",
   "execution_count": null,
   "metadata": {},
   "outputs": [],
   "source": [
    "# Plot game duration distribution\n",
    "plt.figure(figsize=(10, 6))\n",
    "sns.histplot(df['game_duration_minutes'], bins=15)\n",
    "plt.title('Game Duration Distribution')\n",
    "plt.xlabel('Game Duration (minutes)')\n",
    "plt.ylabel('Frequency')\n",
    "plt.axvline(df['game_duration_minutes'].mean(), color='red', linestyle='--', \n",
    "            label=f'Mean: {df[\"game_duration_minutes\"].mean():.2f} min')\n",
    "plt.legend()\n",
    "plt.show()"
   ]
  },
  {
   "cell_type": "code",
   "execution_count": null,
   "metadata": {},
   "outputs": [],
   "source": [
    "# Analyze win rate by game duration\n",
    "df['duration_bucket'] = pd.cut(df['game_duration_minutes'], bins=[0, 20, 25, 30, 35, 40, 100], \n",
    "                              labels=['<20', '20-25', '25-30', '30-35', '35-40', '>40'])\n",
    "\n",
    "duration_win_rate = df.groupby('duration_bucket')['win'].agg(['mean', 'count'])\n",
    "duration_win_rate['mean'] = duration_win_rate['mean'] * 100\n",
    "\n",
    "plt.figure(figsize=(10, 6))\n",
    "ax = sns.barplot(x=duration_win_rate.index, y=duration_win_rate['mean'])\n",
    "plt.title('Win Rate by Game Duration')\n",
    "plt.xlabel('Game Duration (minutes)')\n",
    "plt.ylabel('Win Rate (%)')\n",
    "\n",
    "# Add count labels\n",
    "for i, count in enumerate(duration_win_rate['count']):\n",
    "    ax.text(i, 5, f'n={count}', ha='center')\n",
    "\n",
    "plt.show()"
   ]
  }
 ],
 "metadata": {
  "kernelspec": {
   "display_name": "Python 3",
   "language": "python",
   "name": "python3"
  },
  "language_info": {
   "codemirror_mode": {
    "name": "ipython",
    "version": 3
   },
   "file_extension": ".py",
   "mimetype": "text/x-python",
   "name": "python",
   "nbconvert_exporter": "python",
   "pygments_lexer": "ipython3",
   "version": "3.8.10"
  }
 },
 "nbformat": 4,
 "nbformat_minor": 4
}